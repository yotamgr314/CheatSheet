{
  "nbformat": 4,
  "nbformat_minor": 0,
  "metadata": {
    "colab": {
      "provenance": [],
      "authorship_tag": "ABX9TyPNwCFwd7Wzm4avaUzyjHnu",
      "include_colab_link": true
    },
    "kernelspec": {
      "name": "python3",
      "display_name": "Python 3"
    },
    "language_info": {
      "name": "python"
    }
  },
  "cells": [
    {
      "cell_type": "markdown",
      "metadata": {
        "id": "view-in-github",
        "colab_type": "text"
      },
      "source": [
        "<a href=\"https://colab.research.google.com/github/yotamgr314/CheatSheet/blob/main/EX03.ipynb\" target=\"_parent\"><img src=\"https://colab.research.google.com/assets/colab-badge.svg\" alt=\"Open In Colab\"/></a>"
      ]
    },
    {
      "cell_type": "markdown",
      "source": [
        "yotam_greenstein_314856188"
      ],
      "metadata": {
        "id": "jAK4ZeZfUaKE"
      }
    },
    {
      "cell_type": "code",
      "execution_count": 1,
      "metadata": {
        "id": "g_lc2f4_LDWI"
      },
      "outputs": [],
      "source": [
        "import pandas as pd\n",
        "import numpy as np"
      ]
    },
    {
      "cell_type": "markdown",
      "source": [
        "**1) Load the data into a pandas Dataframe.**"
      ],
      "metadata": {
        "id": "OhU1IaKPLFVe"
      }
    },
    {
      "cell_type": "code",
      "source": [
        "data = pd.read_csv('../data/mobile_price_1.csv')\n",
        "data.head()\n"
      ],
      "metadata": {
        "colab": {
          "base_uri": "https://localhost:8080/",
          "height": 316
        },
        "id": "plzZgpmzLXSI",
        "outputId": "aeedc00f-891f-48aa-804e-55c1106dac8d"
      },
      "execution_count": 2,
      "outputs": [
        {
          "output_type": "error",
          "ename": "FileNotFoundError",
          "evalue": "[Errno 2] No such file or directory: '../data/mobile_price_1.csv'",
          "traceback": [
            "\u001b[0;31m---------------------------------------------------------------------------\u001b[0m",
            "\u001b[0;31mFileNotFoundError\u001b[0m                         Traceback (most recent call last)",
            "\u001b[0;32m<ipython-input-2-39325c8e2e69>\u001b[0m in \u001b[0;36m<cell line: 1>\u001b[0;34m()\u001b[0m\n\u001b[0;32m----> 1\u001b[0;31m \u001b[0mdata\u001b[0m \u001b[0;34m=\u001b[0m \u001b[0mpd\u001b[0m\u001b[0;34m.\u001b[0m\u001b[0mread_csv\u001b[0m\u001b[0;34m(\u001b[0m\u001b[0;34m'../data/mobile_price_1.csv'\u001b[0m\u001b[0;34m)\u001b[0m\u001b[0;34m\u001b[0m\u001b[0;34m\u001b[0m\u001b[0m\n\u001b[0m\u001b[1;32m      2\u001b[0m \u001b[0mdata\u001b[0m\u001b[0;34m.\u001b[0m\u001b[0mhead\u001b[0m\u001b[0;34m(\u001b[0m\u001b[0;34m)\u001b[0m\u001b[0;34m\u001b[0m\u001b[0;34m\u001b[0m\u001b[0m\n",
            "\u001b[0;32m/usr/local/lib/python3.10/dist-packages/pandas/io/parsers/readers.py\u001b[0m in \u001b[0;36mread_csv\u001b[0;34m(filepath_or_buffer, sep, delimiter, header, names, index_col, usecols, dtype, engine, converters, true_values, false_values, skipinitialspace, skiprows, skipfooter, nrows, na_values, keep_default_na, na_filter, verbose, skip_blank_lines, parse_dates, infer_datetime_format, keep_date_col, date_parser, date_format, dayfirst, cache_dates, iterator, chunksize, compression, thousands, decimal, lineterminator, quotechar, quoting, doublequote, escapechar, comment, encoding, encoding_errors, dialect, on_bad_lines, delim_whitespace, low_memory, memory_map, float_precision, storage_options, dtype_backend)\u001b[0m\n\u001b[1;32m   1024\u001b[0m     \u001b[0mkwds\u001b[0m\u001b[0;34m.\u001b[0m\u001b[0mupdate\u001b[0m\u001b[0;34m(\u001b[0m\u001b[0mkwds_defaults\u001b[0m\u001b[0;34m)\u001b[0m\u001b[0;34m\u001b[0m\u001b[0;34m\u001b[0m\u001b[0m\n\u001b[1;32m   1025\u001b[0m \u001b[0;34m\u001b[0m\u001b[0m\n\u001b[0;32m-> 1026\u001b[0;31m     \u001b[0;32mreturn\u001b[0m \u001b[0m_read\u001b[0m\u001b[0;34m(\u001b[0m\u001b[0mfilepath_or_buffer\u001b[0m\u001b[0;34m,\u001b[0m \u001b[0mkwds\u001b[0m\u001b[0;34m)\u001b[0m\u001b[0;34m\u001b[0m\u001b[0;34m\u001b[0m\u001b[0m\n\u001b[0m\u001b[1;32m   1027\u001b[0m \u001b[0;34m\u001b[0m\u001b[0m\n\u001b[1;32m   1028\u001b[0m \u001b[0;34m\u001b[0m\u001b[0m\n",
            "\u001b[0;32m/usr/local/lib/python3.10/dist-packages/pandas/io/parsers/readers.py\u001b[0m in \u001b[0;36m_read\u001b[0;34m(filepath_or_buffer, kwds)\u001b[0m\n\u001b[1;32m    618\u001b[0m \u001b[0;34m\u001b[0m\u001b[0m\n\u001b[1;32m    619\u001b[0m     \u001b[0;31m# Create the parser.\u001b[0m\u001b[0;34m\u001b[0m\u001b[0;34m\u001b[0m\u001b[0m\n\u001b[0;32m--> 620\u001b[0;31m     \u001b[0mparser\u001b[0m \u001b[0;34m=\u001b[0m \u001b[0mTextFileReader\u001b[0m\u001b[0;34m(\u001b[0m\u001b[0mfilepath_or_buffer\u001b[0m\u001b[0;34m,\u001b[0m \u001b[0;34m**\u001b[0m\u001b[0mkwds\u001b[0m\u001b[0;34m)\u001b[0m\u001b[0;34m\u001b[0m\u001b[0;34m\u001b[0m\u001b[0m\n\u001b[0m\u001b[1;32m    621\u001b[0m \u001b[0;34m\u001b[0m\u001b[0m\n\u001b[1;32m    622\u001b[0m     \u001b[0;32mif\u001b[0m \u001b[0mchunksize\u001b[0m \u001b[0;32mor\u001b[0m \u001b[0miterator\u001b[0m\u001b[0;34m:\u001b[0m\u001b[0;34m\u001b[0m\u001b[0;34m\u001b[0m\u001b[0m\n",
            "\u001b[0;32m/usr/local/lib/python3.10/dist-packages/pandas/io/parsers/readers.py\u001b[0m in \u001b[0;36m__init__\u001b[0;34m(self, f, engine, **kwds)\u001b[0m\n\u001b[1;32m   1618\u001b[0m \u001b[0;34m\u001b[0m\u001b[0m\n\u001b[1;32m   1619\u001b[0m         \u001b[0mself\u001b[0m\u001b[0;34m.\u001b[0m\u001b[0mhandles\u001b[0m\u001b[0;34m:\u001b[0m \u001b[0mIOHandles\u001b[0m \u001b[0;34m|\u001b[0m \u001b[0;32mNone\u001b[0m \u001b[0;34m=\u001b[0m \u001b[0;32mNone\u001b[0m\u001b[0;34m\u001b[0m\u001b[0;34m\u001b[0m\u001b[0m\n\u001b[0;32m-> 1620\u001b[0;31m         \u001b[0mself\u001b[0m\u001b[0;34m.\u001b[0m\u001b[0m_engine\u001b[0m \u001b[0;34m=\u001b[0m \u001b[0mself\u001b[0m\u001b[0;34m.\u001b[0m\u001b[0m_make_engine\u001b[0m\u001b[0;34m(\u001b[0m\u001b[0mf\u001b[0m\u001b[0;34m,\u001b[0m \u001b[0mself\u001b[0m\u001b[0;34m.\u001b[0m\u001b[0mengine\u001b[0m\u001b[0;34m)\u001b[0m\u001b[0;34m\u001b[0m\u001b[0;34m\u001b[0m\u001b[0m\n\u001b[0m\u001b[1;32m   1621\u001b[0m \u001b[0;34m\u001b[0m\u001b[0m\n\u001b[1;32m   1622\u001b[0m     \u001b[0;32mdef\u001b[0m \u001b[0mclose\u001b[0m\u001b[0;34m(\u001b[0m\u001b[0mself\u001b[0m\u001b[0;34m)\u001b[0m \u001b[0;34m->\u001b[0m \u001b[0;32mNone\u001b[0m\u001b[0;34m:\u001b[0m\u001b[0;34m\u001b[0m\u001b[0;34m\u001b[0m\u001b[0m\n",
            "\u001b[0;32m/usr/local/lib/python3.10/dist-packages/pandas/io/parsers/readers.py\u001b[0m in \u001b[0;36m_make_engine\u001b[0;34m(self, f, engine)\u001b[0m\n\u001b[1;32m   1878\u001b[0m                 \u001b[0;32mif\u001b[0m \u001b[0;34m\"b\"\u001b[0m \u001b[0;32mnot\u001b[0m \u001b[0;32min\u001b[0m \u001b[0mmode\u001b[0m\u001b[0;34m:\u001b[0m\u001b[0;34m\u001b[0m\u001b[0;34m\u001b[0m\u001b[0m\n\u001b[1;32m   1879\u001b[0m                     \u001b[0mmode\u001b[0m \u001b[0;34m+=\u001b[0m \u001b[0;34m\"b\"\u001b[0m\u001b[0;34m\u001b[0m\u001b[0;34m\u001b[0m\u001b[0m\n\u001b[0;32m-> 1880\u001b[0;31m             self.handles = get_handle(\n\u001b[0m\u001b[1;32m   1881\u001b[0m                 \u001b[0mf\u001b[0m\u001b[0;34m,\u001b[0m\u001b[0;34m\u001b[0m\u001b[0;34m\u001b[0m\u001b[0m\n\u001b[1;32m   1882\u001b[0m                 \u001b[0mmode\u001b[0m\u001b[0;34m,\u001b[0m\u001b[0;34m\u001b[0m\u001b[0;34m\u001b[0m\u001b[0m\n",
            "\u001b[0;32m/usr/local/lib/python3.10/dist-packages/pandas/io/common.py\u001b[0m in \u001b[0;36mget_handle\u001b[0;34m(path_or_buf, mode, encoding, compression, memory_map, is_text, errors, storage_options)\u001b[0m\n\u001b[1;32m    871\u001b[0m         \u001b[0;32mif\u001b[0m \u001b[0mioargs\u001b[0m\u001b[0;34m.\u001b[0m\u001b[0mencoding\u001b[0m \u001b[0;32mand\u001b[0m \u001b[0;34m\"b\"\u001b[0m \u001b[0;32mnot\u001b[0m \u001b[0;32min\u001b[0m \u001b[0mioargs\u001b[0m\u001b[0;34m.\u001b[0m\u001b[0mmode\u001b[0m\u001b[0;34m:\u001b[0m\u001b[0;34m\u001b[0m\u001b[0;34m\u001b[0m\u001b[0m\n\u001b[1;32m    872\u001b[0m             \u001b[0;31m# Encoding\u001b[0m\u001b[0;34m\u001b[0m\u001b[0;34m\u001b[0m\u001b[0m\n\u001b[0;32m--> 873\u001b[0;31m             handle = open(\n\u001b[0m\u001b[1;32m    874\u001b[0m                 \u001b[0mhandle\u001b[0m\u001b[0;34m,\u001b[0m\u001b[0;34m\u001b[0m\u001b[0;34m\u001b[0m\u001b[0m\n\u001b[1;32m    875\u001b[0m                 \u001b[0mioargs\u001b[0m\u001b[0;34m.\u001b[0m\u001b[0mmode\u001b[0m\u001b[0;34m,\u001b[0m\u001b[0;34m\u001b[0m\u001b[0;34m\u001b[0m\u001b[0m\n",
            "\u001b[0;31mFileNotFoundError\u001b[0m: [Errno 2] No such file or directory: '../data/mobile_price_1.csv'"
          ]
        }
      ]
    },
    {
      "cell_type": "markdown",
      "source": [
        "# Task 1.2: Classify the categorical features.\n",
        "**bold text**\n",
        "\n",
        "*    Nominal Features: Include bluetooth, gen, cores, speed, sim, screen,and wifi.\n",
        "\n",
        "*   Ordinal Features: None are defined in the dataset.\n",
        "\n",
        "\n",
        ">\n",
        "\n",
        "\n",
        "\n"
      ],
      "metadata": {
        "id": "PhBgQ0DPNrq_"
      }
    },
    {
      "cell_type": "markdown",
      "source": [
        "Task 1.3: Add a column to calculate the total screen resolution by multiplying height and width in pixels.\n",
        "\n",
        "\n"
      ],
      "metadata": {
        "id": "6fSGQnhnOgbg"
      }
    },
    {
      "cell_type": "code",
      "source": [
        "data['resolution'] = data['px_height'] * data['px_width']\n",
        "data.head()"
      ],
      "metadata": {
        "id": "kM-gEUE6Rrks"
      },
      "execution_count": null,
      "outputs": []
    },
    {
      "cell_type": "markdown",
      "source": [
        "# Task 1.4: Add a column to compute the screen's DPI (dots per inch).\n",
        "\n"
      ],
      "metadata": {
        "id": "pvyDg6lgRwyN"
      }
    },
    {
      "cell_type": "code",
      "source": [
        "data['DPI_w'] = data['px_width'] / (data['sc_w'] + 1e-9)\n",
        "data.head()"
      ],
      "metadata": {
        "id": "kp1lpvhdTHeC"
      },
      "execution_count": null,
      "outputs": []
    },
    {
      "cell_type": "markdown",
      "source": [
        "## Avoid division by zero by including a small offset.\n"
      ],
      "metadata": {
        "id": "jRCtrICOSqKi"
      }
    },
    {
      "cell_type": "markdown",
      "source": [
        "## DPI is determined by dividing the screen's width in pixels by its width in inches.\n",
        "\n"
      ],
      "metadata": {
        "id": "S72mEAfBSjNK"
      }
    },
    {
      "cell_type": "markdown",
      "source": [
        "# Task 1.5: Introduce a new column for the ratio of battery power to talk time.\n",
        "\n",
        "## Handle potential division by zero using a small adjustment.\n"
      ],
      "metadata": {
        "id": "MmyVcIV6OybQ"
      }
    },
    {
      "cell_type": "code",
      "source": [
        "data['call_ratio'] = data['battery_power'] / (data['talk_time'] + 1e-9)\n",
        "data.head()"
      ],
      "metadata": {
        "id": "xDe9MfL9TLwh"
      },
      "execution_count": null,
      "outputs": []
    },
    {
      "cell_type": "markdown",
      "source": [
        "# Task 1.6: Convert the memory column's unit from megabytes (MB) to gigabytes (GB) by dividing its values by 1024.\n",
        "\n"
      ],
      "metadata": {
        "id": "js4UPNC-O-QX"
      }
    },
    {
      "cell_type": "code",
      "source": [
        "data['memory'] = data['memory'] / 1024\n",
        "data.head()"
      ],
      "metadata": {
        "id": "lSGoDw0tSIs5"
      },
      "execution_count": null,
      "outputs": []
    },
    {
      "cell_type": "markdown",
      "source": [
        "Task 1.7: Generate descriptive statistics for the dataset using the describe() function.\n",
        "\n"
      ],
      "metadata": {
        "id": "xgST3VXwPIKE"
      }
    },
    {
      "cell_type": "code",
      "source": [
        "describe_output = data.describe()\n",
        "print(describe_output)\n",
        "data.head()"
      ],
      "metadata": {
        "id": "NomURbyJTSRn"
      },
      "execution_count": null,
      "outputs": []
    },
    {
      "cell_type": "markdown",
      "source": [
        "Task 1.8: Convert selected features into categorical data types for better classification.\n",
        "\n"
      ],
      "metadata": {
        "id": "U0dFzu9kPKN3"
      }
    },
    {
      "cell_type": "code",
      "source": [
        "data['speed'] = data['speed'].astype('category')\n",
        "data['screen'] = data['screen'].astype('category')\n",
        "data['cores'] = data['cores'].astype('category')\n",
        "data.head()"
      ],
      "metadata": {
        "id": "AYOwhi5oTWuH"
      },
      "execution_count": null,
      "outputs": []
    },
    {
      "cell_type": "markdown",
      "source": [
        "**Task 2.1: Determine the number of phones that lack both front and rear cameras.\n",
        "**"
      ],
      "metadata": {
        "id": "PLfKYy1TPQOA"
      }
    },
    {
      "cell_type": "markdown",
      "source": [
        "\n",
        "  *   Filter rows where both f_camera and camera values are missing (NaN).\n",
        "\n",
        "\n",
        "\n",
        "\n",
        "\n",
        "\n"
      ],
      "metadata": {
        "id": "cPyx9HCDPoaT"
      }
    },
    {
      "cell_type": "code",
      "source": [
        "no_camera_count = data[(data['f_camera'].isna()) & (data['camera'].isna())].shape[0]\n",
        "print(f\"Number of phones without cameras: {no_camera_count}\")\n",
        "data.head()"
      ],
      "metadata": {
        "id": "w8P-ZPlCTbFo"
      },
      "execution_count": null,
      "outputs": []
    },
    {
      "cell_type": "markdown",
      "source": [
        "# Task 2.2: Compute the average battery capacity for single-SIM phones equipped with high-resolution cameras.\n",
        "\n"
      ],
      "metadata": {
        "id": "V3haxVjxPy21"
      }
    },
    {
      "cell_type": "code",
      "source": [
        "high_res_camera = data[(data['sim'] == 'Single') &\n",
        "                       ((data['f_camera'] > 12) | (data['camera'] > 12))]\n",
        "# Calculate the average battery power\n",
        "avg_battery_power = high_res_camera['battery_power'].mean()\n",
        "print(f\"Average battery power: {avg_battery_power}\")\n",
        "data.head()"
      ],
      "metadata": {
        "id": "nMtJJsi6TdmO"
      },
      "execution_count": null,
      "outputs": []
    },
    {
      "cell_type": "markdown",
      "source": [
        "  ## Filter for phones with a Single SIM and either f_camera or camera resolution greater than 12 MP.\n"
      ],
      "metadata": {
        "id": "L2I2K72BP5_1"
      }
    },
    {
      "cell_type": "markdown",
      "source": [
        "# Task 2.3: Identify the ID and price of the most expensive phone that meets the following criteria:\n",
        "\n"
      ],
      "metadata": {
        "id": "sFpVkpuaQP2h"
      }
    },
    {
      "cell_type": "code",
      "source": [
        "most_expensive_phone = data[(data['wifi'] == 'none') &\n",
        "                            (data['screen'] == 'Touch') &\n",
        "                            (data['mobile_wt'] > 145)].sort_values(by='price', ascending=False).iloc[0]\n",
        "# Display the ID and price of the phone\n",
        "print(f\"Most expensive phone ID: {most_expensive_phone['id']}, Price: {most_expensive_phone['price']}\")\n",
        "data.head()"
      ],
      "metadata": {
        "id": "GqElH0URTivB"
      },
      "execution_count": null,
      "outputs": []
    },
    {
      "cell_type": "markdown",
      "source": [
        "## Does not support WiFi, has a touchscreen, and weighs over 145g.\n"
      ],
      "metadata": {
        "id": "zG6lTvgTQTxh"
      }
    },
    {
      "cell_type": "markdown",
      "source": [
        "# Task 2.4: Create a pivot table to analyze the percentage of phones with Bluetooth by generation and RAM quartiles.\n",
        "\n"
      ],
      "metadata": {
        "id": "290XYXZEQchw"
      }
    },
    {
      "cell_type": "code",
      "source": [
        "data['ram_quartile'] = pd.qcut(data['ram'], 4, labels=['Q1', 'Q2', 'Q3', 'Q4'])\n",
        "pivot_table = data.pivot_table(index='gen',\n",
        "                               columns='ram_quartile',\n",
        "                               values='bluetooth',\n",
        "                               aggfunc=lambda x: (x == 'Yes').mean() * 100)\n",
        "print(pivot_table)\n",
        "data.head()"
      ],
      "metadata": {
        "id": "xeJh6EaxTvu-"
      },
      "execution_count": null,
      "outputs": []
    },
    {
      "cell_type": "markdown",
      "source": [
        "\n",
        "##    Divide RAM into quartiles and compute the proportion of devices with Bluetooth.\n",
        "\n",
        "\n"
      ],
      "metadata": {
        "id": "sxkpUNE5QgVA"
      }
    },
    {
      "cell_type": "markdown",
      "source": [],
      "metadata": {
        "id": "VlM6UMB7UWFK"
      }
    },
    {
      "cell_type": "markdown",
      "source": [
        "# Task 2.5: Generate a new DataFrame with specific features and perform random sampling.\n",
        "\n"
      ],
      "metadata": {
        "id": "z307pbdHQuye"
      }
    },
    {
      "cell_type": "code",
      "source": [
        "medium_speed_phones = data[data['speed'] == 'medium']\n",
        "sampled_df = medium_speed_phones.sample(frac=0.5, random_state=42)[['id', 'battery_power', 'ram', 'talk_time', 'bluetooth', 'cores', 'sim', 'memory', 'price']]\n",
        "sampled_df.head()\n",
        "data.head()"
      ],
      "metadata": {
        "id": "g-XJiEIMTyDi"
      },
      "execution_count": null,
      "outputs": []
    },
    {
      "cell_type": "markdown",
      "source": [
        "## Select medium-speed phones and randomly sample half the dataset for further analysis.\n"
      ],
      "metadata": {
        "id": "5AURO874Qyi8"
      }
    },
    {
      "cell_type": "markdown",
      "source": [
        "# Task 2.6: Determine the maximum total talk time achievable by combining three phones.\n",
        "\n"
      ],
      "metadata": {
        "id": "1Uw10d8-Q1H9"
      }
    },
    {
      "cell_type": "code",
      "source": [
        "sampled_df_sorted = sampled_df.sort_values(by='talk_time', ascending=False)\n",
        "top_3_phones = sampled_df_sorted.iloc[:3]\n",
        "# Calculate the total talk time and display the phone IDs\n",
        "max_talk_time = top_3_phones['talk_time'].sum()\n",
        "print(f\"Maximum total talk time: {max_talk_time}, Phones: {top_3_phones['id'].tolist()}\")\n",
        "data.head()"
      ],
      "metadata": {
        "id": "w3hoq5OwT0Li"
      },
      "execution_count": null,
      "outputs": []
    },
    {
      "cell_type": "code",
      "source": [
        "# Save results to a new CSV (if needed)\n",
        "# Save the processed data to a new file\n",
        "data.to_csv('../data/mobile_price_processed.csv', index=False)\n",
        "data.head()"
      ],
      "metadata": {
        "id": "uX9WbW8jT56N"
      },
      "execution_count": null,
      "outputs": []
    },
    {
      "cell_type": "markdown",
      "source": [
        "## Sort the phones by their talk time in descending order and choose the top three.\n"
      ],
      "metadata": {
        "id": "pU2wFAjkQ7H_"
      }
    },
    {
      "cell_type": "markdown",
      "source": [
        "## Save the results to a new CSV file if necessary.\n"
      ],
      "metadata": {
        "id": "Tstp8RGWQ-EH"
      }
    },
    {
      "cell_type": "markdown",
      "source": [
        "# Final Task: Save the processed dataset to a new file for further use.\n",
        "\n"
      ],
      "metadata": {
        "id": "yoZe8IBCRCdk"
      }
    }
  ]
}